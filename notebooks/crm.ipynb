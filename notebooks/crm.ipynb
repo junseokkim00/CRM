{
 "cells": [
  {
   "cell_type": "code",
   "execution_count": null,
   "id": "2562bbb7-9e96-40a7-819e-02229d517d82",
   "metadata": {},
   "outputs": [],
   "source": [
    "import torch\n",
    "import torch.nn as nn\n",
    "import torch.optim as optim\n",
    "from torch.utils.data import DataLoader, Dataset\n",
    "from transformers import AutoModelForCausalLMWithValueHead, AutoTokenizer\n",
    "from datasets import load_dataset\n",
    "\n",
    "# Load model and tokenizer\n",
    "model_name = \"your-pretrained-model\"  # Replace with an appropriate model\n",
    "model = AutoModelForCausalLMWithValueHead.from_pretrained(model_name)\n",
    "tokenizer = AutoTokenizer.from_pretrained(model_name)\n",
    "\n",
    "device = torch.device(\"cuda\" if torch.cuda.is_available() else \"cpu\")\n",
    "model.to(device)"
   ]
  },
  {
   "cell_type": "code",
   "execution_count": null,
   "id": "f6045a20-b870-489b-976b-34282708f03a",
   "metadata": {},
   "outputs": [],
   "source": [
    "# Define dataset class\n",
    "class RewardDataset(Dataset):\n",
    "    def __init__(self, dataset, tokenizer, max_length=512):\n",
    "        self.dataset = dataset\n",
    "        self.tokenizer = tokenizer\n",
    "        self.max_length = max_length\n",
    "    \n",
    "    def __len__(self):\n",
    "        return len(self.dataset)\n",
    "    \n",
    "    def __getitem__(self, idx):\n",
    "        item = self.dataset[idx]\n",
    "        input_text = item['question'] + \" \" + item['response'] + \" \" + item['feedback']\n",
    "        inputs = self.tokenizer(input_text, padding=\"max_length\", truncation=True, max_length=self.max_length, return_tensors=\"pt\")\n",
    "        label = torch.tensor(item['score'], dtype=torch.float32)\n",
    "        \n",
    "        return {\"input_ids\": inputs[\"input_ids\"].squeeze(0), \n",
    "                \"attention_mask\": inputs[\"attention_mask\"].squeeze(0), \n",
    "                \"label\": label}\n",
    "\n",
    "# Load dataset\n",
    "dataset = load_dataset(\"your_dataset\")  # Replace with your dataset\n",
    "train_dataset = RewardDataset(dataset[\"train\"], tokenizer)\n",
    "train_dataloader = DataLoader(train_dataset, batch_size=8, shuffle=True)\n",
    "\n",
    "# Define loss function and optimizer\n",
    "criterion = nn.MSELoss()\n",
    "optimizer = optim.AdamW(model.parameters(), lr=5e-5, weight_decay=0.01)\n",
    "\n",
    "# Training loop\n",
    "epochs = 3\n",
    "model.train()\n",
    "for epoch in range(epochs):\n",
    "    epoch_loss = 0.0\n",
    "    for batch in train_dataloader:\n",
    "        optimizer.zero_grad()\n",
    "        \n",
    "        input_ids = batch[\"input_ids\"].to(device)\n",
    "        attention_mask = batch[\"attention_mask\"].to(device)\n",
    "        labels = batch[\"label\"].to(device)\n",
    "        \n",
    "        outputs = model(input_ids=input_ids, attention_mask=attention_mask)\n",
    "        predictions = outputs.logits.squeeze()\n",
    "        \n",
    "        loss = criterion(predictions, labels)\n",
    "        loss.backward()\n",
    "        optimizer.step()\n",
    "        \n",
    "        epoch_loss += loss.item()\n",
    "    \n",
    "    print(f\"Epoch {epoch+1}/{epochs}, Loss: {epoch_loss/len(train_dataloader):.4f}\")\n"
   ]
  }
 ],
 "metadata": {
  "kernelspec": {
   "display_name": "Python [conda:anaconda3-biasdebate]",
   "language": "python",
   "name": "conda-env-anaconda3-biasdebate-py"
  },
  "language_info": {
   "codemirror_mode": {
    "name": "ipython",
    "version": 3
   },
   "file_extension": ".py",
   "mimetype": "text/x-python",
   "name": "python",
   "nbconvert_exporter": "python",
   "pygments_lexer": "ipython3",
   "version": "3.10.16"
  }
 },
 "nbformat": 4,
 "nbformat_minor": 5
}
