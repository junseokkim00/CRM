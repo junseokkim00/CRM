{
 "cells": [
  {
   "cell_type": "code",
   "execution_count": 2,
   "id": "a11ce591-a4a1-480e-8b8b-b6a2accd0e83",
   "metadata": {},
   "outputs": [],
   "source": [
    "from datasets import load_dataset\n",
    "import json\n",
    "import os\n",
    "from dotenv import load_dotenv\n",
    "from langchain_openai import ChatOpenAI, OpenAI\n",
    "from langchain.prompts import ChatPromptTemplate, PromptTemplate\n",
    "from langchain_core.output_parsers import JsonOutputParser, PydanticOutputParser\n",
    "from pydantic import Field, BaseModel"
   ]
  },
  {
   "cell_type": "code",
   "execution_count": 3,
   "id": "9b52d975-f398-4a44-8c82-d78bf4d6f4ef",
   "metadata": {},
   "outputs": [],
   "source": [
    "load_dotenv()\n",
    "os.environ['OPENAI_API_KEY'] = os.getenv('OPENAI_API_KEY')\n",
    "llm = ChatOpenAI(model=\"gpt-3.5-turbo\")"
   ]
  },
  {
   "cell_type": "code",
   "execution_count": 4,
   "id": "496c93fb-76be-45c9-966e-acc25d1c639d",
   "metadata": {},
   "outputs": [],
   "source": [
    "ds = load_dataset(\"openai/gsm8k\", \"main\")\n",
    "data = ds['train']"
   ]
  },
  {
   "cell_type": "code",
   "execution_count": 5,
   "id": "f2ab9fa9",
   "metadata": {},
   "outputs": [
    {
     "data": {
      "text/plain": [
       "7473"
      ]
     },
     "execution_count": 5,
     "metadata": {},
     "output_type": "execute_result"
    }
   ],
   "source": [
    "len(data)"
   ]
  },
  {
   "cell_type": "code",
   "execution_count": 6,
   "id": "91260391",
   "metadata": {},
   "outputs": [
    {
     "data": {
      "text/plain": [
       "2491"
      ]
     },
     "execution_count": 6,
     "metadata": {},
     "output_type": "execute_result"
    }
   ],
   "source": [
    "7473 // 3"
   ]
  },
  {
   "cell_type": "code",
   "execution_count": null,
   "id": "e7dd8969",
   "metadata": {},
   "outputs": [
    {
     "data": {
      "text/plain": [
       "7473"
      ]
     },
     "execution_count": 8,
     "metadata": {},
     "output_type": "execute_result"
    }
   ],
   "source": [
    "# 0 2491\n",
    "# 2491 4982\n",
    "# 4982 7473"
   ]
  },
  {
   "cell_type": "code",
   "execution_count": 30,
   "id": "94ca536a-631a-4f49-88c7-3f8fc1731a9f",
   "metadata": {},
   "outputs": [],
   "source": [
    "question, answer = data[0]['question'], data[0]['answer']"
   ]
  },
  {
   "cell_type": "code",
   "execution_count": 31,
   "id": "0e38c027-9da4-4cb6-8f4f-44bdecd26d11",
   "metadata": {},
   "outputs": [],
   "source": [
    "answer = answer.split(\"####\")[-1].strip()"
   ]
  },
  {
   "cell_type": "code",
   "execution_count": 32,
   "id": "533e8f3b-346b-41d2-9f45-4290933079a3",
   "metadata": {},
   "outputs": [],
   "source": [
    "def run(llm, chat, kwargs):\n",
    "    prompt = ChatPromptTemplate.from_messages(chat)\n",
    "    chain = prompt | llm\n",
    "    return chain.invoke(kwargs).content"
   ]
  },
  {
   "cell_type": "code",
   "execution_count": 33,
   "id": "6ed5c30d-6e86-4351-b3c6-358f6759f27d",
   "metadata": {},
   "outputs": [],
   "source": [
    "chat=[]\n",
    "chat.append((\"user\", f\"{question}\"))"
   ]
  },
  {
   "cell_type": "code",
   "execution_count": 34,
   "id": "f558e316-f112-42ac-bc2d-c918007eeb42",
   "metadata": {},
   "outputs": [],
   "source": [
    "initial_response = run(llm, chat, {})"
   ]
  },
  {
   "cell_type": "code",
   "execution_count": 35,
   "id": "e36c8c9b-e507-44e3-aab6-17df9728d22a",
   "metadata": {},
   "outputs": [
    {
     "data": {
      "text/plain": [
       "'In April, Natalia sold 48 clips.\\nIn May, she sold half as many as in April, so she sold 48 / 2 = 24 clips.\\n\\nAltogether, Natalia sold 48 + 24 = 72 clips in April and May.'"
      ]
     },
     "execution_count": 35,
     "metadata": {},
     "output_type": "execute_result"
    }
   ],
   "source": [
    "initial_response"
   ]
  },
  {
   "cell_type": "code",
   "execution_count": 36,
   "id": "770f2d52-bd10-4e31-8f1f-41625ec4314a",
   "metadata": {},
   "outputs": [],
   "source": [
    "chat.append((\"ai\", initial_response))"
   ]
  },
  {
   "cell_type": "code",
   "execution_count": 37,
   "id": "24ac4aac-dff1-47d2-b007-456589f2f46f",
   "metadata": {},
   "outputs": [
    {
     "name": "stdout",
     "output_type": "stream",
     "text": [
      "I apologize for the mistake in my previous answer. Here is the correct calculation:\n",
      "\n",
      "In April, Natalia sold 48 clips.\n",
      "In May, she sold half as many as in April, so she sold 48 / 2 = 24 clips.\n",
      "\n",
      "Altogether, Natalia sold 48 + 24 = 72 clips in April and May.\n",
      "I apologize for the mistake in my previous answer. Let's correct the calculation.\n",
      "\n",
      "In April, Natalia sold 48 clips.\n",
      "In May, she sold half as many as in April, so she sold 48 / 2 = 24 clips.\n",
      "\n",
      "Altogether, Natalia sold 48 + 24 = 72 clips in April and May.\n",
      "I apologize for the mistake in my previous response. Let's correct the calculation:\n",
      "\n",
      "In April, Natalia sold 48 clips.\n",
      "In May, she sold half as many as in April, so she sold 48 / 2 = 24 clips.\n",
      "\n",
      "Altogether, Natalia sold 48 + 24 = 72 clips in April and May.\n",
      "\n",
      "The correct final answer is 72 clips. Thank you for pointing out the error.\n",
      "I apologize for the error in my previous calculation. Let's correct it:\n",
      "\n",
      "In April, Natalia sold 48 clips.\n",
      "In May, she sold half as many as in April, so she sold 48 / 2 = 24 clips.\n",
      "\n",
      "Altogether, Natalia sold 48 + 24 = 72 clips in April and May.\n",
      "I apologize for the mistake in my previous response. Let's correct it:\n",
      "\n",
      "In April, Natalia sold 48 clips.\n",
      "In May, she sold half as many as in April, so she sold 48 / 2 = 24 clips.\n",
      "\n",
      "Therefore, Natalia sold a total of 48 + 24 = 72 clips altogether in April and May.\n",
      "I apologize for the mistake in my previous response.\n",
      "\n",
      "Let's correct it:\n",
      "\n",
      "- Natalia sold 48 clips in April.\n",
      "- In May, she sold half as many clips as in April, which means she sold 48 / 2 = 24 clips.\n",
      "\n",
      "To find the total number of clips sold in April and May, we add the number of clips sold in each month:\n",
      "\n",
      "48 (April) + 24 (May) = 72\n",
      "\n",
      "Natalia sold 72 clips in total in April and May.\n"
     ]
    }
   ],
   "source": [
    "# feedback_prompt = \"Assume that this answer could be either correct or incorrect. Review the answer carefully and report any serious problems you find.\"\n",
    "feedback_prompt = \"Review your previous answer and find problems with your answer.\"\n",
    "chat.append((\"user\", feedback_prompt))\n",
    "feedback_num=6\n",
    "feedbacks=[]\n",
    "for _ in range(feedback_num):\n",
    "    feedback = run(llm, chat, {})\n",
    "    print(feedback)\n",
    "    feedbacks.append(feedback)"
   ]
  },
  {
   "cell_type": "code",
   "execution_count": 38,
   "id": "1bf015b6-e961-437d-a7b4-b88346dc4b3b",
   "metadata": {},
   "outputs": [
    {
     "data": {
      "text/plain": [
       "['I apologize for the mistake in my previous answer. Here is the correct calculation:\\n\\nIn April, Natalia sold 48 clips.\\nIn May, she sold half as many as in April, so she sold 48 / 2 = 24 clips.\\n\\nAltogether, Natalia sold 48 + 24 = 72 clips in April and May.',\n",
       " \"I apologize for the mistake in my previous answer. Let's correct the calculation.\\n\\nIn April, Natalia sold 48 clips.\\nIn May, she sold half as many as in April, so she sold 48 / 2 = 24 clips.\\n\\nAltogether, Natalia sold 48 + 24 = 72 clips in April and May.\",\n",
       " \"I apologize for the mistake in my previous response. Let's correct the calculation:\\n\\nIn April, Natalia sold 48 clips.\\nIn May, she sold half as many as in April, so she sold 48 / 2 = 24 clips.\\n\\nAltogether, Natalia sold 48 + 24 = 72 clips in April and May.\\n\\nThe correct final answer is 72 clips. Thank you for pointing out the error.\",\n",
       " \"I apologize for the error in my previous calculation. Let's correct it:\\n\\nIn April, Natalia sold 48 clips.\\nIn May, she sold half as many as in April, so she sold 48 / 2 = 24 clips.\\n\\nAltogether, Natalia sold 48 + 24 = 72 clips in April and May.\",\n",
       " \"I apologize for the mistake in my previous response. Let's correct it:\\n\\nIn April, Natalia sold 48 clips.\\nIn May, she sold half as many as in April, so she sold 48 / 2 = 24 clips.\\n\\nTherefore, Natalia sold a total of 48 + 24 = 72 clips altogether in April and May.\",\n",
       " \"I apologize for the mistake in my previous response.\\n\\nLet's correct it:\\n\\n- Natalia sold 48 clips in April.\\n- In May, she sold half as many clips as in April, which means she sold 48 / 2 = 24 clips.\\n\\nTo find the total number of clips sold in April and May, we add the number of clips sold in each month:\\n\\n48 (April) + 24 (May) = 72\\n\\nNatalia sold 72 clips in total in April and May.\"]"
      ]
     },
     "execution_count": 38,
     "metadata": {},
     "output_type": "execute_result"
    }
   ],
   "source": [
    "feedbacks"
   ]
  },
  {
   "cell_type": "code",
   "execution_count": 41,
   "id": "0ee30342-31e4-48ae-909f-830dcb9f9331",
   "metadata": {},
   "outputs": [
    {
     "name": "stdout",
     "output_type": "stream",
     "text": [
      "In April, Natalia sold 48 clips.\n",
      "In May, she sold half as many as in April, so she sold 48 / 2 = 24 clips.\n",
      "\n",
      "Altogether, Natalia sold 48 + 24 = \\boxed{72} clips in April and May.\n",
      "In April, Natalia sold 48 clips.\n",
      "In May, she sold half as many as in April, so she sold 48 / 2 = 24 clips.\n",
      "\n",
      "Altogether, Natalia sold clips in April and May. \\boxed{72} clips.\n",
      "In April, Natalia sold 48 clips.\n",
      "In May, she sold half as many as in April, so she sold 48 / 2 = 24 clips.\n",
      "\n",
      "Altogether, Natalia sold 48 + 24 = boxed{72} clips in April and May.\n",
      "In April, Natalia sold 48 clips.\n",
      "In May, she sold half as many as in April, so she sold 48 / 2 = 24 clips.\n",
      "\n",
      "Altogether, Natalia sold 48 + 24 = 72 clips in April and May.\n",
      "Therefore, Natalia sold \\boxed{72} clips altogether in April and May.\n",
      "In April, Natalia sold 48 clips.\n",
      "In May, she sold half as many as in April, so she sold 48 / 2 = 24 clips.\n",
      "\n",
      "Altogether, Natalia sold 48 + 24 = 72 clips in April and May.\n",
      "\n",
      "Therefore, Natalia sold $\\boxed{72}$ clips altogether in April and May.\n",
      "In April, Natalia sold 48 clips. In May, she sold half as many clips as in April, which is 48 clips / 2 = 24 clips. \n",
      "\n",
      "Therefore, Natalia sold a total of 48 clips + 24 clips = 72 clips altogether in April and May. \n",
      "\n",
      "Therefore, Natalia sold a total of \\boxed{72} clips altogether in April and May.\n",
      "In April, Natalia sold 48 clips.\n",
      "In May, she sold half as many as in April, so she sold 48 / 2 = 24 clips.\n",
      "\n",
      "Altogether, Natalia sold 48 + 24 = 72 clips in April and May.\n",
      "\n",
      "Therefore, Natalia sold \\boxed{72} clips altogether in April and May.\n",
      "In April, Natalia sold 48 clips.\n",
      "In May, she sold half as many as in April, so she sold 48 / 2 = 24 clips.\n",
      "\n",
      "Altogether, Natalia sold 48 + 24 = \\boxed{72} clips in April and May.\n"
     ]
    }
   ],
   "source": [
    "revised_responses=[]\n",
    "refine_prompt = \"Based on the problems you found, improve your answer. Please reiterate your answer, with your final answer a single numerical number, in the form \\boxed{{answer}}.\"\n",
    "feedback = feedbacks[0]\n",
    "new_chat = chat+[(\"ai\", feedback), (\"user\", refine_prompt)]\n",
    "for _ in range(8):\n",
    "    revised_response = run(llm, new_chat, {})\n",
    "    revised_responses.append(revised_response)\n",
    "    print(revised_response)"
   ]
  },
  {
   "cell_type": "code",
   "execution_count": null,
   "id": "68211b7b-e94d-4440-af27-362b9d24d3d1",
   "metadata": {},
   "outputs": [],
   "source": [
    "import re\n"
   ]
  },
  {
   "cell_type": "code",
   "execution_count": null,
   "id": "0985f209-3e9c-4dcd-959d-062a1af963c8",
   "metadata": {},
   "outputs": [],
   "source": [
    "prompt = [\n",
    "    {\"role\": \"system\", \"content\": \"너는 아주 나쁜 입맛을 가진 사람이야.\"},\n",
    "    {\"role\": \"user\", \"content\": \"너도 혹시 목이버섯을 좋아하니?\"}\n",
    "]"
   ]
  }
 ],
 "metadata": {
  "kernelspec": {
   "display_name": "Python 3",
   "language": "python",
   "name": "python3"
  },
  "language_info": {
   "codemirror_mode": {
    "name": "ipython",
    "version": 3
   },
   "file_extension": ".py",
   "mimetype": "text/x-python",
   "name": "python",
   "nbconvert_exporter": "python",
   "pygments_lexer": "ipython3",
   "version": "3.10.16"
  }
 },
 "nbformat": 4,
 "nbformat_minor": 5
}
