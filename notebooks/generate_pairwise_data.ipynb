{
 "cells": [
  {
   "cell_type": "code",
   "execution_count": null,
   "id": "6d737cf6",
   "metadata": {},
   "outputs": [],
   "source": [
    "# load data\n",
    "import json\n",
    "\n",
    "file_path=\"\" # 자신이 학습 시킨 데이터 추가하기\n",
    "with open(file_path, \"r\") as f:\n",
    "    crm_lines = f.readlines()"
   ]
  },
  {
   "cell_type": "code",
   "execution_count": null,
   "id": "cdee5535",
   "metadata": {},
   "outputs": [],
   "source": [
    "initial_response_path=\"\" # estimate_initial_answer.py 로 돌린 결과 file path 넣기\n",
    "with open(initial_response_path, \"r\") as f:\n",
    "    verdicts = f.readlines()"
   ]
  },
  {
   "cell_type": "code",
   "execution_count": null,
   "id": "a538646d",
   "metadata": {},
   "outputs": [],
   "source": [
    "# 각 문제에 대해서 initial response가 맞추었는지, 틀렸는지 dictionary에 저장\n",
    "# - idx: True/False\n",
    "verdict_dict={}\n",
    "for verdict in verdicts:\n",
    "    verdict = json.loads(verdict)\n",
    "    verdict_dict[verdict['idx']] = verdict['correct']"
   ]
  },
  {
   "cell_type": "code",
   "execution_count": null,
   "id": "52de739c",
   "metadata": {},
   "outputs": [],
   "source": [
    "# 각 index에 대해서 feedback 모으기\n",
    "# - data[idx] = [inst1, inst2, inst3]\n",
    "import json\n",
    "from collections import defaultdict\n",
    "\n",
    "data = defaultdict(list)\n",
    "\n",
    "for line in crm_lines:\n",
    "    inst = json.loads(line)\n",
    "    idx = inst['idx']\n",
    "    if idx not in data:\n",
    "        data[idx] = []\n",
    "    data[idx].append(inst)"
   ]
  },
  {
   "cell_type": "markdown",
   "id": "a6c813ef",
   "metadata": {},
   "source": [
    "# Generate pairwise data"
   ]
  },
  {
   "cell_type": "code",
   "execution_count": null,
   "id": "d9dcfa1d",
   "metadata": {},
   "outputs": [],
   "source": [
    "pairwise_data=[]\n",
    "correct_pairwise_data=[]\n",
    "wrong_pairwise_data=[]\n",
    "\n",
    "def cmp_func(idx, question, initial_response, initial_verdict, inst1, inst2):\n",
    "    score1 = inst1['score']\n",
    "    score2 = inst2['score']\n",
    "    if score1 == score2:\n",
    "        return None\n",
    "    elif score1 > score2:\n",
    "        return {\n",
    "            'idx': idx,\n",
    "            'question': question,\n",
    "            'initial_response': initial_response,\n",
    "            'initial_verdict': initial_verdict,\n",
    "            'feedback_w': inst1['feedback'],\n",
    "            'feedback_l': inst2['feedback'],\n",
    "            'w_score': score1,\n",
    "            'l_score': score2,\n",
    "        }\n",
    "    else:\n",
    "        return {\n",
    "            'idx': idx,\n",
    "            'question': question,\n",
    "            'initial_response': initial_response,\n",
    "            'initial_verdict': initial_verdict,\n",
    "            'feedback_w': inst2['feedback'],\n",
    "            'feedback_l': inst1['feedback'],\n",
    "            'w_score': score2,\n",
    "            'l_score': score1,\n",
    "        }\n",
    "    \n",
    "\n",
    "for key in data:\n",
    "    question, initial_response = data[key][0]['question'], data[key][0]['initial_response']\n",
    "    initial_verdict = verdict_dict[key]\n",
    "    inst1, inst2, inst3 = data[key][0], data[key][1], data[key][2]\n",
    "\n",
    "    new_pair = cmp_func(key, question, initial_response, initial_verdict, inst1, inst2)\n",
    "    if new_pair is not None:\n",
    "        pairwise_data.append(new_pair)\n",
    "    # cmp 2,3\n",
    "    new_pair = cmp_func(key, question, initial_response, initial_verdict, inst2, inst3)\n",
    "    if new_pair is not None:\n",
    "        pairwise_data.append(new_pair)\n",
    "    # cmp 1,3\n",
    "    new_pair = cmp_func(key, question, initial_response, initial_verdict, inst1, inst3)\n",
    "    if new_pair is not None:\n",
    "        pairwise_data.append(new_pair)"
   ]
  }
 ],
 "metadata": {
  "language_info": {
   "name": "python"
  }
 },
 "nbformat": 4,
 "nbformat_minor": 5
}
