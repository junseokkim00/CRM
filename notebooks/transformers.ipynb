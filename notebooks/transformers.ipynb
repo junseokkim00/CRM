{
 "cells": [
  {
   "cell_type": "code",
   "execution_count": null,
   "id": "b7a79a11-bc6d-4a00-bb5c-14cc06243564",
   "metadata": {},
   "outputs": [
    {
     "name": "stderr",
     "output_type": "stream",
     "text": [
      "/home/junseokkim00/anaconda3/envs/biasdebate/lib/python3.10/site-packages/tqdm/auto.py:21: TqdmWarning: IProgress not found. Please update jupyter and ipywidgets. See https://ipywidgets.readthedocs.io/en/stable/user_install.html\n",
      "  from .autonotebook import tqdm as notebook_tqdm\n",
      "Loading checkpoint shards: 100%|██████████| 2/2 [00:18<00:00,  9.04s/it]\n"
     ]
    }
   ],
   "source": [
    "# Load model directly\n",
    "from transformers import AutoTokenizer, AutoModelForCausalLM\n",
    "\n",
    "from dotenv import load_dotenv\n",
    "import os\n",
    "\n",
    "load_dotenv()\n",
    "hf_token = os.getenv(\"HF_TOKEN\")\n",
    "\n",
    "tokenizer = AutoTokenizer.from_pretrained(\"meta-llama/Llama-3.2-3B-Instruct\", token=hf_token)\n",
    "model = AutoModelForCausalLM.from_pretrained(\"meta-llama/Llama-3.2-3B-Instruct\", token=hf_token)"
   ]
  },
  {
   "cell_type": "code",
   "execution_count": 2,
   "id": "b1556cf5-2f44-43f9-a859-601e103f58b2",
   "metadata": {},
   "outputs": [
    {
     "data": {
      "text/plain": [
       "LlamaForCausalLM(\n",
       "  (model): LlamaModel(\n",
       "    (embed_tokens): Embedding(128256, 3072)\n",
       "    (layers): ModuleList(\n",
       "      (0-27): 28 x LlamaDecoderLayer(\n",
       "        (self_attn): LlamaAttention(\n",
       "          (q_proj): Linear(in_features=3072, out_features=3072, bias=False)\n",
       "          (k_proj): Linear(in_features=3072, out_features=1024, bias=False)\n",
       "          (v_proj): Linear(in_features=3072, out_features=1024, bias=False)\n",
       "          (o_proj): Linear(in_features=3072, out_features=3072, bias=False)\n",
       "        )\n",
       "        (mlp): LlamaMLP(\n",
       "          (gate_proj): Linear(in_features=3072, out_features=8192, bias=False)\n",
       "          (up_proj): Linear(in_features=3072, out_features=8192, bias=False)\n",
       "          (down_proj): Linear(in_features=8192, out_features=3072, bias=False)\n",
       "          (act_fn): SiLU()\n",
       "        )\n",
       "        (input_layernorm): LlamaRMSNorm((3072,), eps=1e-05)\n",
       "        (post_attention_layernorm): LlamaRMSNorm((3072,), eps=1e-05)\n",
       "      )\n",
       "    )\n",
       "    (norm): LlamaRMSNorm((3072,), eps=1e-05)\n",
       "    (rotary_emb): LlamaRotaryEmbedding()\n",
       "  )\n",
       "  (lm_head): Linear(in_features=3072, out_features=128256, bias=False)\n",
       ")"
      ]
     },
     "execution_count": 2,
     "metadata": {},
     "output_type": "execute_result"
    }
   ],
   "source": [
    "device='cuda:0'\n",
    "model.to(device)"
   ]
  },
  {
   "cell_type": "code",
   "execution_count": 3,
   "id": "c963791b-b4d7-4ddf-bf36-c4e7679dd09b",
   "metadata": {},
   "outputs": [
    {
     "name": "stdout",
     "output_type": "stream",
     "text": [
      "Mon Mar 31 22:37:31 2025       \n",
      "+---------------------------------------------------------------------------------------+\n",
      "| NVIDIA-SMI 535.154.05             Driver Version: 535.154.05   CUDA Version: 12.2     |\n",
      "|-----------------------------------------+----------------------+----------------------+\n",
      "| GPU  Name                 Persistence-M | Bus-Id        Disp.A | Volatile Uncorr. ECC |\n",
      "| Fan  Temp   Perf          Pwr:Usage/Cap |         Memory-Usage | GPU-Util  Compute M. |\n",
      "|                                         |                      |               MIG M. |\n",
      "|=========================================+======================+======================|\n",
      "|   0  NVIDIA RTX A5000               On  | 00000000:18:00.0 Off |                    0 |\n",
      "| 30%   38C    P2              61W / 230W |  12466MiB / 23028MiB |     11%      Default |\n",
      "|                                         |                      |                  N/A |\n",
      "+-----------------------------------------+----------------------+----------------------+\n",
      "                                                                                         \n",
      "+---------------------------------------------------------------------------------------+\n",
      "| Processes:                                                                            |\n",
      "|  GPU   GI   CI        PID   Type   Process name                            GPU Memory |\n",
      "|        ID   ID                                                             Usage      |\n",
      "|=======================================================================================|\n",
      "|    0   N/A  N/A    768467      C   ...naconda3/envs/biasdebate/bin/python    12460MiB |\n",
      "+---------------------------------------------------------------------------------------+\n"
     ]
    }
   ],
   "source": [
    "!nvidia-smi"
   ]
  },
  {
   "cell_type": "code",
   "execution_count": 21,
   "id": "16314db3-837f-4e57-b933-56f9dd09a740",
   "metadata": {},
   "outputs": [],
   "source": [
    "feedback_prompt=\"Review your previous answer and find problems with your answer.\"\n",
    "refine_prompt=\"Based on the problems you found, improve your answer. Please reiterate your answer, with your final answer a single numerical number, in the form \\boxed{answer}.\"\n",
    "answer_trigger_prompt='Therefore, the answer (arabic numerals) is'"
   ]
  },
  {
   "cell_type": "code",
   "execution_count": 5,
   "id": "605dedfc-30b0-4b95-8f4d-78b17ccac820",
   "metadata": {},
   "outputs": [],
   "source": [
    "question=\"Five friends eat at a fast-food chain and order the following: 5 pieces of hamburger that cost $3 each; 4 sets of French fries that cost $1.20; 5 cups of soda that cost $0.5 each; and 1 platter of spaghetti that cost $2.7. How much will each of them pay if they will split the bill equally?\""
   ]
  },
  {
   "cell_type": "code",
   "execution_count": 6,
   "id": "89ede479-6182-4a02-aa16-3daf29e5ae28",
   "metadata": {},
   "outputs": [],
   "source": [
    "chat=[\n",
    "    {\"role\": \"user\", \"content\": question}\n",
    "]"
   ]
  },
  {
   "cell_type": "code",
   "execution_count": 7,
   "id": "edc91dd4-7f91-480e-b86a-8cda96c435e0",
   "metadata": {},
   "outputs": [],
   "source": [
    "def inference(chat, model, tokenizer, device):\n",
    "    tokenized_chat = tokenizer.apply_chat_template(chat, tokenize=True, add_generation_prompt=True, return_tensors=\"pt\")\n",
    "    tokenized_chat = tokenized_chat.to(device)\n",
    "    output = model.generate(tokenized_chat, max_new_tokens=1024, do_sample=True)\n",
    "    # output.shape\n",
    "    decode_input = tokenizer.batch_decode(tokenized_chat, skip_special_tokens=True)[0]\n",
    "    decode_output = tokenizer.batch_decode(output, skip_special_tokens=True)[0]\n",
    "    return decode_output[len(decode_input):]\n",
    "    "
   ]
  },
  {
   "cell_type": "code",
   "execution_count": 8,
   "id": "7f5034b7-6a45-4654-935e-b83b2dbdb80d",
   "metadata": {},
   "outputs": [
    {
     "name": "stderr",
     "output_type": "stream",
     "text": [
      "The attention mask and the pad token id were not set. As a consequence, you may observe unexpected behavior. Please pass your input's `attention_mask` to obtain reliable results.\n",
      "Setting `pad_token_id` to `eos_token_id`:128001 for open-end generation.\n",
      "The attention mask is not set and cannot be inferred from input because pad token is same as eos token. As a consequence, you may observe unexpected behavior. Please pass your input's `attention_mask` to obtain reliable results.\n"
     ]
    }
   ],
   "source": [
    "initial_response = inference(chat, model, tokenizer, device)"
   ]
  },
  {
   "cell_type": "code",
   "execution_count": 9,
   "id": "3bc53d3e-eb1c-4fdd-ad78-14656f8035f1",
   "metadata": {},
   "outputs": [
    {
     "data": {
      "text/plain": [
       "'To find the total cost, we need to calculate the cost of each item and add them together. \\n\\n- 5 pieces of hamburger: 5 * $3 = $15\\n- 4 sets of French fries: 4 * $1.20 = $4.80\\n- 5 cups of soda: 5 * $0.5 = $2.50\\n- 1 platter of spaghetti: $2.7\\n\\nTotal cost: $15 + $4.80 + $2.50 + $2.7 = $25.00\\n\\nSince there are 5 friends, they will split the bill equally. \\n\\n$25.00 / 5 = $5.00\\n\\nEach friend will pay $5.00.'"
      ]
     },
     "execution_count": 9,
     "metadata": {},
     "output_type": "execute_result"
    }
   ],
   "source": [
    "initial_response"
   ]
  },
  {
   "cell_type": "code",
   "execution_count": 10,
   "id": "7192b8b2-e607-4cfe-8793-3529098ba27c",
   "metadata": {},
   "outputs": [],
   "source": [
    "chat.append({\"role\": \"assistant\", \"content\": initial_response})"
   ]
  },
  {
   "cell_type": "code",
   "execution_count": 11,
   "id": "7bd27c61-2a57-4b4c-b78d-d0b3ce4dab07",
   "metadata": {},
   "outputs": [
    {
     "name": "stderr",
     "output_type": "stream",
     "text": [
      "The attention mask and the pad token id were not set. As a consequence, you may observe unexpected behavior. Please pass your input's `attention_mask` to obtain reliable results.\n",
      "Setting `pad_token_id` to `eos_token_id`:128001 for open-end generation.\n"
     ]
    }
   ],
   "source": [
    "chat.append({\"role\": \"user\", \"content\": feedback_prompt})\n",
    "feedback = inference(chat, model, tokenizer, device)"
   ]
  },
  {
   "cell_type": "code",
   "execution_count": 12,
   "id": "f1998e2c-5220-4686-ac66-9fad7b50848d",
   "metadata": {},
   "outputs": [
    {
     "data": {
      "text/plain": [
       "\"Upon reviewing my previous answer, I noticed that I made a calculation error in the total cost. Here's the correct calculation:\\n\\n- 5 pieces of hamburger: 5 * $3 = $15\\n- 4 sets of French fries: 4 * $1.20 = $4.80\\n- 5 cups of soda: 5 * $0.5 = $2.50\\n- 1 platter of spaghetti: $2.7\\n\\nTotal cost: $15 + $4.80 = $19.80\\n$19.80 + $2.50 = $22.30\\n$22.30 + $2.7 = $25.00\\n\\nThe correct total cost is indeed $25.00.\\n\\nHowever, I also noticed that I made a mistake in the final calculation. \\n\\n$25.00 / 5 = $5.00\\n\\nThis is correct, but I can provide a more detailed explanation.\\n\\nTo split the bill equally, we can divide the total cost by the number of friends. Since there are 5 friends, each friend will pay:\\n\\n$25.00 ÷ 5 = $5.00\\n\\nThis means that each friend will pay $5.00.\""
      ]
     },
     "execution_count": 12,
     "metadata": {},
     "output_type": "execute_result"
    }
   ],
   "source": [
    "feedback"
   ]
  },
  {
   "cell_type": "code",
   "execution_count": 13,
   "id": "b4217af2-2870-4630-85b3-39753bc016fb",
   "metadata": {},
   "outputs": [],
   "source": [
    "chat.append({\"role\": \"assistant\", \"content\": feedback})"
   ]
  },
  {
   "cell_type": "code",
   "execution_count": 14,
   "id": "14a9f481-aa90-47d3-91ab-29eaab23e8c0",
   "metadata": {},
   "outputs": [
    {
     "name": "stderr",
     "output_type": "stream",
     "text": [
      "The attention mask and the pad token id were not set. As a consequence, you may observe unexpected behavior. Please pass your input's `attention_mask` to obtain reliable results.\n",
      "Setting `pad_token_id` to `eos_token_id`:128001 for open-end generation.\n"
     ]
    }
   ],
   "source": [
    "chat.append({\"role\": \"user\", \"content\": refine_prompt})\n",
    "revision = inference(chat, model, tokenizer, device)"
   ]
  },
  {
   "cell_type": "code",
   "execution_count": 15,
   "id": "0d9ea462-adfb-4f67-abe1-8a405db68253",
   "metadata": {},
   "outputs": [
    {
     "data": {
      "text/plain": [
       "'To find the total cost, we need to calculate the cost of each item and add them together. \\n\\n- 5 pieces of hamburger: 5 * $3 = $15\\n- 4 sets of French fries: 4 * $1.20 = $4.80\\n- 5 cups of soda: 5 * $0.5 = $2.50\\n- 1 platter of spaghetti: $2.7\\n\\nTotal cost: \\n1. $15 + $4.80 = $19.80\\n2. $19.80 + $2.50 = $22.30\\n3. $22.30 + $2.7 = $25.00\\n\\nSince there are 5 friends, they will split the bill equally. \\n\\n$25.00 / 5 = $5.00\\n\\nEach friend will pay $5.00.\\n\\n**$5.00**'"
      ]
     },
     "execution_count": 15,
     "metadata": {},
     "output_type": "execute_result"
    }
   ],
   "source": [
    "revision"
   ]
  },
  {
   "cell_type": "code",
   "execution_count": 16,
   "id": "43ba3ea7-d3d4-4605-9b94-31d4eaa37cdc",
   "metadata": {},
   "outputs": [
    {
     "data": {
      "text/plain": [
       "[{'role': 'user',\n",
       "  'content': 'Five friends eat at a fast-food chain and order the following: 5 pieces of hamburger that cost $3 each; 4 sets of French fries that cost $1.20; 5 cups of soda that cost $0.5 each; and 1 platter of spaghetti that cost $2.7. How much will each of them pay if they will split the bill equally?'},\n",
       " {'role': 'assistant',\n",
       "  'content': 'To find the total cost, we need to calculate the cost of each item and add them together. \\n\\n- 5 pieces of hamburger: 5 * $3 = $15\\n- 4 sets of French fries: 4 * $1.20 = $4.80\\n- 5 cups of soda: 5 * $0.5 = $2.50\\n- 1 platter of spaghetti: $2.7\\n\\nTotal cost: $15 + $4.80 + $2.50 + $2.7 = $25.00\\n\\nSince there are 5 friends, they will split the bill equally. \\n\\n$25.00 / 5 = $5.00\\n\\nEach friend will pay $5.00.'},\n",
       " {'role': 'user',\n",
       "  'content': 'Review your previous answer and find problems with your answer.'},\n",
       " {'role': 'assistant',\n",
       "  'content': \"Upon reviewing my previous answer, I noticed that I made a calculation error in the total cost. Here's the correct calculation:\\n\\n- 5 pieces of hamburger: 5 * $3 = $15\\n- 4 sets of French fries: 4 * $1.20 = $4.80\\n- 5 cups of soda: 5 * $0.5 = $2.50\\n- 1 platter of spaghetti: $2.7\\n\\nTotal cost: $15 + $4.80 = $19.80\\n$19.80 + $2.50 = $22.30\\n$22.30 + $2.7 = $25.00\\n\\nThe correct total cost is indeed $25.00.\\n\\nHowever, I also noticed that I made a mistake in the final calculation. \\n\\n$25.00 / 5 = $5.00\\n\\nThis is correct, but I can provide a more detailed explanation.\\n\\nTo split the bill equally, we can divide the total cost by the number of friends. Since there are 5 friends, each friend will pay:\\n\\n$25.00 ÷ 5 = $5.00\\n\\nThis means that each friend will pay $5.00.\"},\n",
       " {'role': 'user',\n",
       "  'content': 'Based on the problems you found, improve your answer. Please reiterate your answer, with your final answer a single numerical number, in the form \\x08oxed{answer}.'}]"
      ]
     },
     "execution_count": 16,
     "metadata": {},
     "output_type": "execute_result"
    }
   ],
   "source": [
    "chat"
   ]
  },
  {
   "cell_type": "code",
   "execution_count": 17,
   "id": "a423c502-9e02-43e2-9659-84a7da5eeeb0",
   "metadata": {},
   "outputs": [],
   "source": [
    "chat.append({'role': 'assistant', 'contet': revision})"
   ]
  },
  {
   "cell_type": "code",
   "execution_count": 18,
   "id": "2d155e09-3376-47b6-b10e-45b7156d5798",
   "metadata": {},
   "outputs": [
    {
     "name": "stderr",
     "output_type": "stream",
     "text": [
      "The attention mask and the pad token id were not set. As a consequence, you may observe unexpected behavior. Please pass your input's `attention_mask` to obtain reliable results.\n",
      "Setting `pad_token_id` to `eos_token_id`:128001 for open-end generation.\n"
     ]
    }
   ],
   "source": [
    "extract_answer={'role': 'user', 'content': 'Therefore, the answer (arabic numerals) is'}\n",
    "final_answer = inference(chat+[extract_answer], model, tokenizer, device)"
   ]
  },
  {
   "cell_type": "code",
   "execution_count": 19,
   "id": "050bc180-3526-4b64-a074-06933d61ea6f",
   "metadata": {},
   "outputs": [
    {
     "data": {
      "text/plain": [
       "'$5.00'"
      ]
     },
     "execution_count": 19,
     "metadata": {},
     "output_type": "execute_result"
    }
   ],
   "source": [
    "final_answer"
   ]
  },
  {
   "cell_type": "markdown",
   "id": "8e6ef882-0c68-4f94-a706-6b325356b2c1",
   "metadata": {},
   "source": [
    "## Now let's make it to generate $k$ feedback and $n$ revisions"
   ]
  },
  {
   "cell_type": "code",
   "execution_count": 40,
   "id": "c5539b51-263b-425a-8303-9f575c5e0000",
   "metadata": {},
   "outputs": [],
   "source": [
    "import re\n",
    "def check(pred, label):\n",
    "    try:    \n",
    "        pred = pred.replace(',','')\n",
    "        label = label.replace(',','')\n",
    "        pred = re.findall(r\"[-+]?(?:\\d*\\.*\\d+)\",pred)[0]\n",
    "        if pred == label:\n",
    "            return True\n",
    "    except:\n",
    "        pass\n",
    "    return False"
   ]
  },
  {
   "cell_type": "code",
   "execution_count": 39,
   "id": "e10b24ac-af32-45a1-9735-d1d52a976f5c",
   "metadata": {},
   "outputs": [
    {
     "data": {
      "text/plain": [
       "['5']"
      ]
     },
     "execution_count": 39,
     "metadata": {},
     "output_type": "execute_result"
    }
   ],
   "source": [
    "pred=\"{5}\"\n",
    "label=\"5\"\n",
    "pred = re.findall(r\"[-+]?(?:\\d*\\.*\\d+)\",pred)\n",
    "pred"
   ]
  },
  {
   "cell_type": "code",
   "execution_count": 33,
   "id": "370b5503-fb86-4c54-8ae9-2b7a4415b823",
   "metadata": {},
   "outputs": [],
   "source": [
    "def generate_data(model, tokenizer, question, answer, k, n, device):\n",
    "    insts=[]\n",
    "    chat=[\n",
    "        {\"role\": \"user\", \"content\": question}\n",
    "    ]\n",
    "    initial_response = inference(chat, model, tokenizer, device)\n",
    "    print(\"initial_response: \", initial_response)\n",
    "    chat.append({\"role\": \"assistant\", \"content\": initial_response})\n",
    "    chat.append({\"role\": \"user\", \"content\": feedback_prompt})\n",
    "    # TODO: need to save verbose\n",
    "    for idx in range(k):\n",
    "        feedback = inference(chat, model, tokenizer, device)\n",
    "        partial_chat=[\n",
    "            {\"role\": \"assistant\", \"content\": feedback},\n",
    "            {\"role\": \"user\", \"content\": refine_prompt}\n",
    "        ]\n",
    "        cnt=0\n",
    "        print(f\"feedback #{idx}: \", feedback)\n",
    "        for _ in range(n):\n",
    "            revision = inference(chat+partial_chat, model, tokenizer, device)\n",
    "            print(revision)\n",
    "            extract_answer_chat =[\n",
    "                {\"role\": \"assistant\", \"content\": revision},\n",
    "                {\"role\": \"user\", \"content\": answer_trigger_prompt}\n",
    "            ]\n",
    "            pred = inference(chat+partial_chat+extract_answer_chat, model, tokenizer, device)\n",
    "            print(pred)\n",
    "            if check(pred, answer):\n",
    "                cnt+=1\n",
    "        print(f\"score for feedback #{idx}: \", cnt/n*100)\n",
    "        insts.append({\n",
    "            'question': question,\n",
    "            'initial_response': initial_response,\n",
    "            'feedback': feedback,\n",
    "            'score': cnt / n * 100\n",
    "        })\n",
    "    return insts"
   ]
  },
  {
   "cell_type": "code",
   "execution_count": 34,
   "id": "2fe972b0-6ca8-485d-8dff-6b559ccb1d40",
   "metadata": {},
   "outputs": [
    {
     "name": "stderr",
     "output_type": "stream",
     "text": [
      "The attention mask and the pad token id were not set. As a consequence, you may observe unexpected behavior. Please pass your input's `attention_mask` to obtain reliable results.\n",
      "Setting `pad_token_id` to `eos_token_id`:128001 for open-end generation.\n",
      "The attention mask and the pad token id were not set. As a consequence, you may observe unexpected behavior. Please pass your input's `attention_mask` to obtain reliable results.\n",
      "Setting `pad_token_id` to `eos_token_id`:128001 for open-end generation.\n"
     ]
    },
    {
     "name": "stdout",
     "output_type": "stream",
     "text": [
      "initial_response:  To find the total cost, we need to calculate the cost of each item and add them together. \n",
      "\n",
      "The cost of the hamburgers: 5 pieces * $3 each = $15\n",
      "The cost of the French fries: 4 sets * $1.20 each = $4.80\n",
      "The cost of the sodas: 5 cups * $0.5 each = $2.50\n",
      "The cost of the spaghetti: $2.70\n",
      "\n",
      "Total cost: $15 + $4.80 + $2.50 + $2.70 = $25\n",
      "\n",
      "Since there are 5 friends, we will split the total cost equally among them. \n",
      "\n",
      "$25 / 5 = $5\n",
      "\n",
      "Each friend will pay $5.\n"
     ]
    },
    {
     "name": "stderr",
     "output_type": "stream",
     "text": [
      "The attention mask and the pad token id were not set. As a consequence, you may observe unexpected behavior. Please pass your input's `attention_mask` to obtain reliable results.\n",
      "Setting `pad_token_id` to `eos_token_id`:128001 for open-end generation.\n"
     ]
    },
    {
     "name": "stdout",
     "output_type": "stream",
     "text": [
      "feedback #0:  Upon reviewing my previous answer, I noticed a potential issue. \n",
      "\n",
      "When calculating the cost of the French fries, I should have multiplied the cost per set by the number of sets. However, I only multiplied the cost per set by the number of sets, but then I forgot to multiply it by the cost per set again, so the correct calculation is 4 sets * $1.20 * 5 = $24. \n",
      "\n",
      "Here's the corrected calculation:\n",
      "\n",
      "The cost of the hamburgers: 5 pieces * $3 each = $15\n",
      "The cost of the French fries: 4 sets * $1.20 * 5 = $24\n",
      "The cost of the sodas: 5 cups * $0.5 each = $2.50\n",
      "The cost of the spaghetti: $2.70\n",
      "\n",
      "Total cost: $15 + $24 + $2.50 + $2.70 = $44.20\n",
      "\n",
      "Since there are 5 friends, we will split the total cost equally among them. \n",
      "\n",
      "$44.20 / 5 = $8.84\n",
      "\n",
      "Each friend will pay $8.84.\n"
     ]
    },
    {
     "name": "stderr",
     "output_type": "stream",
     "text": [
      "The attention mask and the pad token id were not set. As a consequence, you may observe unexpected behavior. Please pass your input's `attention_mask` to obtain reliable results.\n",
      "Setting `pad_token_id` to `eos_token_id`:128001 for open-end generation.\n"
     ]
    },
    {
     "name": "stdout",
     "output_type": "stream",
     "text": [
      "To find the total cost, we need to calculate the cost of each item and add them together. \n",
      "\n",
      "The cost of the hamburgers: 5 pieces * $3 each = $15\n",
      "The cost of the French fries: 4 sets * $1.20 * 5 = $24\n",
      "The cost of the sodas: 5 cups * $0.5 each = $2.50\n",
      "The cost of the spaghetti: $2.70\n",
      "\n",
      "Total cost: $15 + $24 + $2.50 + $2.70 = $44.20\n",
      "\n",
      "Since there are 5 friends, we will split the total cost equally among them. \n",
      "\n",
      "$44.20 / 5 = $8.84\n",
      "\n",
      "Each friend will pay $8.84.\n"
     ]
    },
    {
     "name": "stderr",
     "output_type": "stream",
     "text": [
      "The attention mask and the pad token id were not set. As a consequence, you may observe unexpected behavior. Please pass your input's `attention_mask` to obtain reliable results.\n",
      "Setting `pad_token_id` to `eos_token_id`:128001 for open-end generation.\n"
     ]
    },
    {
     "name": "stdout",
     "output_type": "stream",
     "text": [
      "boxed{8.84}\n"
     ]
    },
    {
     "name": "stderr",
     "output_type": "stream",
     "text": [
      "The attention mask and the pad token id were not set. As a consequence, you may observe unexpected behavior. Please pass your input's `attention_mask` to obtain reliable results.\n",
      "Setting `pad_token_id` to `eos_token_id`:128001 for open-end generation.\n"
     ]
    },
    {
     "name": "stdout",
     "output_type": "stream",
     "text": [
      "To find the total cost, we need to calculate the cost of each item and add them together. \n",
      "\n",
      "The cost of the hamburgers: 5 pieces * $3 each = $15\n",
      "The cost of the French fries: 4 sets * $1.20 * 5 = $24\n",
      "The cost of the sodas: 5 cups * $0.5 each = $2.50\n",
      "The cost of the spaghetti: $2.70\n",
      "\n",
      "Total cost: $15 + $24 + $2.50 + $2.70 = $44.20\n",
      "\n",
      "Since there are 5 friends, we will split the total cost equally among them. \n",
      "\n",
      "$44.20 / 5 = $8.84\n",
      "\n",
      "Each friend will pay $8.84.\n"
     ]
    },
    {
     "name": "stderr",
     "output_type": "stream",
     "text": [
      "The attention mask and the pad token id were not set. As a consequence, you may observe unexpected behavior. Please pass your input's `attention_mask` to obtain reliable results.\n",
      "Setting `pad_token_id` to `eos_token_id`:128001 for open-end generation.\n"
     ]
    },
    {
     "name": "stdout",
     "output_type": "stream",
     "text": [
      "boxed{8.84}\n"
     ]
    },
    {
     "name": "stderr",
     "output_type": "stream",
     "text": [
      "The attention mask and the pad token id were not set. As a consequence, you may observe unexpected behavior. Please pass your input's `attention_mask` to obtain reliable results.\n",
      "Setting `pad_token_id` to `eos_token_id`:128001 for open-end generation.\n"
     ]
    },
    {
     "name": "stdout",
     "output_type": "stream",
     "text": [
      "To find the total cost, we need to calculate the cost of each item and add them together. \n",
      "\n",
      "The cost of the hamburgers: 5 pieces * $3 each = $15\n",
      "The cost of the French fries: 4 sets * $1.20 * 5 = $24\n",
      "The cost of the sodas: 5 cups * $0.5 each = $2.50\n",
      "The cost of the spaghetti: $2.70\n",
      "\n",
      "Total cost: $15 + $24 + $2.50 + $2.70 = $44.20\n",
      "\n",
      "Since there are 5 friends, we will split the total cost equally among them. \n",
      "\n",
      "$44.20 / 5 = $8.84\n",
      "\n",
      "Each friend will pay $8.84.\n"
     ]
    },
    {
     "name": "stderr",
     "output_type": "stream",
     "text": [
      "The attention mask and the pad token id were not set. As a consequence, you may observe unexpected behavior. Please pass your input's `attention_mask` to obtain reliable results.\n",
      "Setting `pad_token_id` to `eos_token_id`:128001 for open-end generation.\n"
     ]
    },
    {
     "name": "stdout",
     "output_type": "stream",
     "text": [
      "boxed{8.84}\n"
     ]
    },
    {
     "name": "stderr",
     "output_type": "stream",
     "text": [
      "The attention mask and the pad token id were not set. As a consequence, you may observe unexpected behavior. Please pass your input's `attention_mask` to obtain reliable results.\n",
      "Setting `pad_token_id` to `eos_token_id`:128001 for open-end generation.\n"
     ]
    },
    {
     "name": "stdout",
     "output_type": "stream",
     "text": [
      "To find the total cost, we need to calculate the cost of each item and add them together. \n",
      "\n",
      "The cost of the hamburgers: 5 pieces * $3 each = $15\n",
      "The cost of the French fries: 4 sets * $1.20 each * 5 = $24\n",
      "The cost of the sodas: 5 cups * $0.5 each = $2.50\n",
      "The cost of the spaghetti: $2.70\n",
      "\n",
      "Total cost: $15 + $24 + $2.50 + $2.70 = $44.20\n",
      "\n",
      "Since there are 5 friends, we will split the total cost equally among them. \n",
      "\n",
      "$44.20 / 5 = $8.84\n",
      "\n",
      "Each friend will pay $8.84.\n"
     ]
    },
    {
     "name": "stderr",
     "output_type": "stream",
     "text": [
      "The attention mask and the pad token id were not set. As a consequence, you may observe unexpected behavior. Please pass your input's `attention_mask` to obtain reliable results.\n",
      "Setting `pad_token_id` to `eos_token_id`:128001 for open-end generation.\n"
     ]
    },
    {
     "name": "stdout",
     "output_type": "stream",
     "text": [
      "boxed{8.84}\n"
     ]
    },
    {
     "name": "stderr",
     "output_type": "stream",
     "text": [
      "The attention mask and the pad token id were not set. As a consequence, you may observe unexpected behavior. Please pass your input's `attention_mask` to obtain reliable results.\n",
      "Setting `pad_token_id` to `eos_token_id`:128001 for open-end generation.\n"
     ]
    },
    {
     "name": "stdout",
     "output_type": "stream",
     "text": [
      "To find the total cost, we need to calculate the cost of each item and add them together. \n",
      "\n",
      "The cost of the hamburgers: 5 pieces * $3 each = $15\n",
      "The cost of the French fries: 4 sets * $1.20 * 5 = $24\n",
      "The cost of the sodas: 5 cups * $0.5 each = $2.50\n",
      "The cost of the spaghetti: $2.70\n",
      "\n",
      "Total cost: $15 + $24 + $2.50 + $2.70 = $44.20\n",
      "\n",
      "Since there are 5 friends, we will split the total cost equally among them. \n",
      "\n",
      "$44.20 / 5 = $8.84\n",
      "\n",
      "Each friend will pay $8.84.\n"
     ]
    },
    {
     "name": "stderr",
     "output_type": "stream",
     "text": [
      "The attention mask and the pad token id were not set. As a consequence, you may observe unexpected behavior. Please pass your input's `attention_mask` to obtain reliable results.\n",
      "Setting `pad_token_id` to `eos_token_id`:128001 for open-end generation.\n"
     ]
    },
    {
     "name": "stdout",
     "output_type": "stream",
     "text": [
      "boxed{8.84}\n",
      "score for feedback #0:  0.0\n"
     ]
    },
    {
     "name": "stderr",
     "output_type": "stream",
     "text": [
      "The attention mask and the pad token id were not set. As a consequence, you may observe unexpected behavior. Please pass your input's `attention_mask` to obtain reliable results.\n",
      "Setting `pad_token_id` to `eos_token_id`:128001 for open-end generation.\n"
     ]
    },
    {
     "name": "stdout",
     "output_type": "stream",
     "text": [
      "feedback #1:  Upon reviewing my previous answer, I found a potential issue. \n",
      "\n",
      "The total cost of the hamburgers is $15, but the cost of the spaghetti is $2.70, which is less than the cost of the hamburgers. However, the problem states that they ordered 5 pieces of hamburgers. Therefore, the correct total cost of the hamburgers is $15.\n",
      "\n",
      "However, there is another issue. The total cost of the French fries is $4.80, and the total cost of the sodas is $2.50. If we add these together, we get $7.30. The cost of the spaghetti is $2.70, which is less than the total cost of the French fries and sodas. This means that the spaghetti is actually the cheapest item on the list.\n",
      "\n",
      "To calculate the total cost correctly, we need to add the cost of the spaghetti to the cost of the French fries and sodas. \n",
      "\n",
      "The total cost of the French fries and sodas: $7.30\n",
      "The cost of the spaghetti: $2.70\n",
      "The total cost: $7.30 + $2.70 = $10\n",
      "\n",
      "Now, we can add the cost of the hamburgers to get the total cost. \n",
      "\n",
      "The total cost of the hamburgers: $15\n",
      "The total cost: $15 + $10 = $25\n",
      "\n",
      "Since there are 5 friends, we will split the total cost equally among them. \n",
      "\n",
      "$25 / 5 = $5\n",
      "\n",
      "Each friend will pay $5.\n",
      "\n",
      "However, there is still another issue. The problem states that they ordered 5 sets of French fries, but we calculated the cost of 4 sets of French fries. This means that we need to add $0.40 to the total cost.\n",
      "\n",
      "The total cost of the French fries: $4.80\n",
      "The cost of 1 set of French fries: $1.20\n",
      "The total cost of 5 sets of French fries: $4.80 + $1.20 = $6\n",
      "However, we need 5 sets of French fries. Therefore, the correct total cost of the French fries is: $6 + $0.40 = $6.40\n",
      "\n",
      "The total cost: $15 + $6.40 = $21.40\n",
      "\n",
      "Now, we can split the total cost equally among them. \n",
      "\n",
      "$21.40 / 5 = $4.28\n",
      "\n",
      "Each friend will pay $4.28.\n"
     ]
    },
    {
     "name": "stderr",
     "output_type": "stream",
     "text": [
      "The attention mask and the pad token id were not set. As a consequence, you may observe unexpected behavior. Please pass your input's `attention_mask` to obtain reliable results.\n",
      "Setting `pad_token_id` to `eos_token_id`:128001 for open-end generation.\n"
     ]
    },
    {
     "name": "stdout",
     "output_type": "stream",
     "text": [
      "To find the total cost, we need to calculate the cost of each item and add them together. \n",
      "\n",
      "The cost of the hamburgers: 5 pieces * $3 each = $15\n",
      "The cost of the French fries: 5 sets * $1.20 each = $6\n",
      "The cost of the sodas: 5 cups * $0.5 each = $2.50\n",
      "The cost of the spaghetti: $2.70\n",
      "\n",
      "Total cost: $15 + $6 + $2.50 + $2.70 = $26.20\n",
      "\n",
      "Since there are 5 friends, we will split the total cost equally among them. \n",
      "\n",
      "$26.20 / 5 = $5.24\n",
      "\n",
      "Each friend will pay $5.24.\n"
     ]
    },
    {
     "name": "stderr",
     "output_type": "stream",
     "text": [
      "The attention mask and the pad token id were not set. As a consequence, you may observe unexpected behavior. Please pass your input's `attention_mask` to obtain reliable results.\n",
      "Setting `pad_token_id` to `eos_token_id`:128001 for open-end generation.\n"
     ]
    },
    {
     "name": "stdout",
     "output_type": "stream",
     "text": [
      "boxed{5.24}\n"
     ]
    },
    {
     "name": "stderr",
     "output_type": "stream",
     "text": [
      "The attention mask and the pad token id were not set. As a consequence, you may observe unexpected behavior. Please pass your input's `attention_mask` to obtain reliable results.\n",
      "Setting `pad_token_id` to `eos_token_id`:128001 for open-end generation.\n"
     ]
    },
    {
     "name": "stdout",
     "output_type": "stream",
     "text": [
      "To find the total cost, we need to calculate the cost of each item and add them together. \n",
      "\n",
      "The cost of the hamburgers: 5 pieces * $3 each = $15\n",
      "The cost of the French fries: 5 sets * $1.20 each = $6\n",
      "The cost of the sodas: 5 cups * $0.5 each = $2.50\n",
      "The cost of the spaghetti: $2.70\n",
      "\n",
      "Total cost: $15 + $6 + $2.50 + $2.70 = $26.20\n",
      "\n",
      "Since there are 5 friends, we will split the total cost equally among them. \n",
      "\n",
      "$26.20 / 5 = $5.24\n",
      "\n",
      "Each friend will pay $5.24.\n"
     ]
    },
    {
     "name": "stderr",
     "output_type": "stream",
     "text": [
      "The attention mask and the pad token id were not set. As a consequence, you may observe unexpected behavior. Please pass your input's `attention_mask` to obtain reliable results.\n",
      "Setting `pad_token_id` to `eos_token_id`:128001 for open-end generation.\n"
     ]
    },
    {
     "name": "stdout",
     "output_type": "stream",
     "text": [
      "boxed{5.24}\n"
     ]
    },
    {
     "name": "stderr",
     "output_type": "stream",
     "text": [
      "The attention mask and the pad token id were not set. As a consequence, you may observe unexpected behavior. Please pass your input's `attention_mask` to obtain reliable results.\n",
      "Setting `pad_token_id` to `eos_token_id`:128001 for open-end generation.\n"
     ]
    },
    {
     "name": "stdout",
     "output_type": "stream",
     "text": [
      "To find the total cost, we need to calculate the cost of each item and add them together. \n",
      "\n",
      "The cost of the hamburgers: 5 pieces * $3 each = $15\n",
      "The cost of the French fries: 5 sets * $1.20 each = $6\n",
      "The cost of the sodas: 5 cups * $0.5 each = $2.50\n",
      "The cost of the spaghetti: $2.70\n",
      "\n",
      "Total cost: $15 + $6 + $2.50 + $2.70 = $26.20\n",
      "\n",
      "Since there are 5 friends, we will split the total cost equally among them. \n",
      "\n",
      "$26.20 / 5 = $5.24\n",
      "\n",
      "Each friend will pay $5.24.\n"
     ]
    },
    {
     "name": "stderr",
     "output_type": "stream",
     "text": [
      "The attention mask and the pad token id were not set. As a consequence, you may observe unexpected behavior. Please pass your input's `attention_mask` to obtain reliable results.\n",
      "Setting `pad_token_id` to `eos_token_id`:128001 for open-end generation.\n"
     ]
    },
    {
     "name": "stdout",
     "output_type": "stream",
     "text": [
      "boxed{5.24}\n"
     ]
    },
    {
     "name": "stderr",
     "output_type": "stream",
     "text": [
      "The attention mask and the pad token id were not set. As a consequence, you may observe unexpected behavior. Please pass your input's `attention_mask` to obtain reliable results.\n",
      "Setting `pad_token_id` to `eos_token_id`:128001 for open-end generation.\n"
     ]
    },
    {
     "name": "stdout",
     "output_type": "stream",
     "text": [
      "To find the total cost, we need to calculate the cost of each item and add them together. \n",
      "\n",
      "The cost of the hamburgers: 5 pieces * $3 each = $15\n",
      "The cost of the French fries: 5 sets * $1.20 each = $6\n",
      "The cost of the sodas: 5 cups * $0.5 each = $2.50\n",
      "The cost of the spaghetti: $2.70\n",
      "\n",
      "Total cost: $15 + $6 + $2.50 + $2.70 = $26.20\n",
      "\n",
      "Since there are 5 friends, we will split the total cost equally among them. \n",
      "\n",
      "$26.20 / 5 = $5.24\n",
      "\n",
      "Each friend will pay $5.24.\n"
     ]
    },
    {
     "name": "stderr",
     "output_type": "stream",
     "text": [
      "The attention mask and the pad token id were not set. As a consequence, you may observe unexpected behavior. Please pass your input's `attention_mask` to obtain reliable results.\n",
      "Setting `pad_token_id` to `eos_token_id`:128001 for open-end generation.\n"
     ]
    },
    {
     "name": "stdout",
     "output_type": "stream",
     "text": [
      "boxed{5.24}\n"
     ]
    },
    {
     "name": "stderr",
     "output_type": "stream",
     "text": [
      "The attention mask and the pad token id were not set. As a consequence, you may observe unexpected behavior. Please pass your input's `attention_mask` to obtain reliable results.\n",
      "Setting `pad_token_id` to `eos_token_id`:128001 for open-end generation.\n"
     ]
    },
    {
     "name": "stdout",
     "output_type": "stream",
     "text": [
      "To find the total cost, we need to calculate the cost of each item and add them together. \n",
      "\n",
      "The cost of the hamburgers: 5 pieces * $3 each = $15\n",
      "The cost of the French fries: 5 sets * $1.20 each = $6\n",
      "The cost of the sodas: 5 cups * $0.5 each = $2.50\n",
      "The cost of the spaghetti: $2.70\n",
      "\n",
      "Total cost: $15 + $6 + $2.50 + $2.70 = $26.20\n",
      "\n",
      "Since there are 5 friends, we will split the total cost equally among them. \n",
      "\n",
      "$26.20 / 5 = $5.24\n",
      "\n",
      "Each friend will pay $5.24.\n"
     ]
    },
    {
     "name": "stderr",
     "output_type": "stream",
     "text": [
      "The attention mask and the pad token id were not set. As a consequence, you may observe unexpected behavior. Please pass your input's `attention_mask` to obtain reliable results.\n",
      "Setting `pad_token_id` to `eos_token_id`:128001 for open-end generation.\n"
     ]
    },
    {
     "name": "stdout",
     "output_type": "stream",
     "text": [
      "boxed{5.24}\n",
      "score for feedback #1:  100.0\n"
     ]
    },
    {
     "name": "stderr",
     "output_type": "stream",
     "text": [
      "The attention mask and the pad token id were not set. As a consequence, you may observe unexpected behavior. Please pass your input's `attention_mask` to obtain reliable results.\n",
      "Setting `pad_token_id` to `eos_token_id`:128001 for open-end generation.\n"
     ]
    },
    {
     "name": "stdout",
     "output_type": "stream",
     "text": [
      "feedback #2:  Upon reviewing my previous answer, I noticed the following issues:\n",
      "\n",
      "1. I didn't consider that the cost of the spaghetti should be added to the total cost of the other items.\n",
      "2. I didn't round the division of the total cost by 5, as it's likely that the actual cost will be a whole number.\n",
      "\n",
      "Let's correct the calculation:\n",
      "\n",
      "The cost of the hamburgers: 5 pieces * $3 each = $15\n",
      "The cost of the French fries: 4 sets * $1.20 each = $4.80\n",
      "The cost of the sodas: 5 cups * $0.5 each = $2.50\n",
      "The cost of the spaghetti: $2.70\n",
      "\n",
      "Total cost: $15 + $4.80 + $2.50 + $2.70 = $25\n",
      "\n",
      "To split the total cost equally among 5 friends, we can round the total cost to the nearest whole number, which is $25. \n",
      "\n",
      "$25 / 5 = $5\n",
      "\n",
      "Each friend will pay $5.\n",
      "\n",
      "However, I noticed that the total cost is already a whole number, so no rounding is necessary in this case.\n"
     ]
    },
    {
     "name": "stderr",
     "output_type": "stream",
     "text": [
      "The attention mask and the pad token id were not set. As a consequence, you may observe unexpected behavior. Please pass your input's `attention_mask` to obtain reliable results.\n",
      "Setting `pad_token_id` to `eos_token_id`:128001 for open-end generation.\n"
     ]
    },
    {
     "name": "stdout",
     "output_type": "stream",
     "text": [
      "To find the total cost, we need to calculate the cost of each item and add them together. \n",
      "\n",
      "The cost of the hamburgers: 5 pieces * $3 each = $15\n",
      "The cost of the French fries: 4 sets * $1.20 each = $4.80\n",
      "The cost of the sodas: 5 cups * $0.5 each = $2.50\n",
      "The cost of the spaghetti: $2.70\n",
      "\n",
      "Total cost: $15 + $4.80 + $2.50 + $2.70 = $25\n",
      "\n",
      "Since there are 5 friends, we will split the total cost equally among them. \n",
      "\n",
      "$25 / 5 = $5\n",
      "\n",
      "Each friend will pay $5.\n"
     ]
    },
    {
     "name": "stderr",
     "output_type": "stream",
     "text": [
      "The attention mask and the pad token id were not set. As a consequence, you may observe unexpected behavior. Please pass your input's `attention_mask` to obtain reliable results.\n",
      "Setting `pad_token_id` to `eos_token_id`:128001 for open-end generation.\n"
     ]
    },
    {
     "name": "stdout",
     "output_type": "stream",
     "text": [
      "boxed{5}\n"
     ]
    },
    {
     "name": "stderr",
     "output_type": "stream",
     "text": [
      "The attention mask and the pad token id were not set. As a consequence, you may observe unexpected behavior. Please pass your input's `attention_mask` to obtain reliable results.\n",
      "Setting `pad_token_id` to `eos_token_id`:128001 for open-end generation.\n"
     ]
    },
    {
     "name": "stdout",
     "output_type": "stream",
     "text": [
      "To find the total cost, we need to calculate the cost of each item and add them together. \n",
      "\n",
      "The cost of the hamburgers: 5 pieces * $3 each = $15\n",
      "The cost of the French fries: 4 sets * $1.20 each = $4.80\n",
      "The cost of the sodas: 5 cups * $0.5 each = $2.50\n",
      "The cost of the spaghetti: $2.70\n",
      "\n",
      "Total cost: $15 + $4.80 + $2.50 + $2.70 = $25\n",
      "\n",
      "Since there are 5 friends, we will split the total cost equally among them. \n",
      "\n",
      "$25 / 5 = $5\n",
      "\n",
      "Each friend will pay $5.\n"
     ]
    },
    {
     "name": "stderr",
     "output_type": "stream",
     "text": [
      "The attention mask and the pad token id were not set. As a consequence, you may observe unexpected behavior. Please pass your input's `attention_mask` to obtain reliable results.\n",
      "Setting `pad_token_id` to `eos_token_id`:128001 for open-end generation.\n"
     ]
    },
    {
     "name": "stdout",
     "output_type": "stream",
     "text": [
      "boxed{5}\n"
     ]
    },
    {
     "name": "stderr",
     "output_type": "stream",
     "text": [
      "The attention mask and the pad token id were not set. As a consequence, you may observe unexpected behavior. Please pass your input's `attention_mask` to obtain reliable results.\n",
      "Setting `pad_token_id` to `eos_token_id`:128001 for open-end generation.\n"
     ]
    },
    {
     "name": "stdout",
     "output_type": "stream",
     "text": [
      "To find the total cost, we need to calculate the cost of each item and add them together. \n",
      "\n",
      "The cost of the hamburgers: 5 pieces * $3 each = $15\n",
      "The cost of the French fries: 4 sets * $1.20 each = $4.80\n",
      "The cost of the sodas: 5 cups * $0.5 each = $2.50\n",
      "The cost of the spaghetti: $2.70\n",
      "\n",
      "Total cost: $15 + $4.80 + $2.50 + $2.70 = $25\n",
      "\n",
      "Since there are 5 friends, we will split the total cost equally among them. \n",
      "\n",
      "$25 / 5 = $5\n",
      "\n",
      "Each friend will pay $5.\n"
     ]
    },
    {
     "name": "stderr",
     "output_type": "stream",
     "text": [
      "The attention mask and the pad token id were not set. As a consequence, you may observe unexpected behavior. Please pass your input's `attention_mask` to obtain reliable results.\n",
      "Setting `pad_token_id` to `eos_token_id`:128001 for open-end generation.\n"
     ]
    },
    {
     "name": "stdout",
     "output_type": "stream",
     "text": [
      "boxed{5}\n"
     ]
    },
    {
     "name": "stderr",
     "output_type": "stream",
     "text": [
      "The attention mask and the pad token id were not set. As a consequence, you may observe unexpected behavior. Please pass your input's `attention_mask` to obtain reliable results.\n",
      "Setting `pad_token_id` to `eos_token_id`:128001 for open-end generation.\n"
     ]
    },
    {
     "name": "stdout",
     "output_type": "stream",
     "text": [
      "To find the total cost, we need to calculate the cost of each item and add them together. \n",
      "\n",
      "The cost of the hamburgers: 5 pieces * $3 each = $15\n",
      "The cost of the French fries: 4 sets * $1.20 each = $4.80\n",
      "The cost of the sodas: 5 cups * $0.5 each = $2.50\n",
      "The cost of the spaghetti: $2.70\n",
      "\n",
      "Total cost: $15 + $4.80 + $2.50 + $2.70 = $25\n",
      "\n",
      "Since there are 5 friends, we will split the total cost equally among them. \n",
      "\n",
      "$25 / 5 = $5\n",
      "\n",
      "Each friend will pay $5.\n"
     ]
    },
    {
     "name": "stderr",
     "output_type": "stream",
     "text": [
      "The attention mask and the pad token id were not set. As a consequence, you may observe unexpected behavior. Please pass your input's `attention_mask` to obtain reliable results.\n",
      "Setting `pad_token_id` to `eos_token_id`:128001 for open-end generation.\n"
     ]
    },
    {
     "name": "stdout",
     "output_type": "stream",
     "text": [
      "boxed{5}\n"
     ]
    },
    {
     "name": "stderr",
     "output_type": "stream",
     "text": [
      "The attention mask and the pad token id were not set. As a consequence, you may observe unexpected behavior. Please pass your input's `attention_mask` to obtain reliable results.\n",
      "Setting `pad_token_id` to `eos_token_id`:128001 for open-end generation.\n"
     ]
    },
    {
     "name": "stdout",
     "output_type": "stream",
     "text": [
      "To find the total cost, we need to calculate the cost of each item and add them together. \n",
      "\n",
      "The cost of the hamburgers: 5 pieces * $3 each = $15\n",
      "The cost of the French fries: 4 sets * $1.20 each = $4.80\n",
      "The cost of the sodas: 5 cups * $0.5 each = $2.50\n",
      "The cost of the spaghetti: $2.70\n",
      "\n",
      "Total cost: $15 + $4.80 + $2.50 + $2.70 = $25\n",
      "\n",
      "Since there are 5 friends, we will split the total cost equally among them. \n",
      "\n",
      "$25 / 5 = $5\n",
      "\n",
      "Each friend will pay $5.\n",
      "boxed{5}\n",
      "score for feedback #2:  100.0\n"
     ]
    }
   ],
   "source": [
    "insts = generate_data(model, tokenizer, question, \"5\", 3, 5, device)"
   ]
  },
  {
   "cell_type": "code",
   "execution_count": null,
   "id": "0287de5f-ac6c-428c-8490-970355fd0240",
   "metadata": {},
   "outputs": [],
   "source": []
  }
 ],
 "metadata": {
  "kernelspec": {
   "display_name": "Python [conda:anaconda3-biasdebate]",
   "language": "python",
   "name": "conda-env-anaconda3-biasdebate-py"
  },
  "language_info": {
   "codemirror_mode": {
    "name": "ipython",
    "version": 3
   },
   "file_extension": ".py",
   "mimetype": "text/x-python",
   "name": "python",
   "nbconvert_exporter": "python",
   "pygments_lexer": "ipython3",
   "version": "3.10.16"
  }
 },
 "nbformat": 4,
 "nbformat_minor": 5
}
